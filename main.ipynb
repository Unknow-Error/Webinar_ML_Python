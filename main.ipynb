# para mayor cantidad de datos
import numpy as np
vector = np.array([1,2,3,4,5])

# para tablas
import pandas as pd

# Leer un archivo csv
df = pd.read_csv('https://raw.githubusercontent.com/LuisPerezTimana/Webinars/main/diabetes.csv')
df

# Para ver las primeras filas
df = df.loc[:,['Glucose','BMI','Outcome']]
df.Glucose

# Filtrar datos
df_filtrado = df[df.BMI > 50]

# Estadísticas descriptivas
df.describe()

# Gráficos
import matplotlib.pyplot as plt

# Grafico de puntos
D = df[df.Outcome == 1]
C = df[df.Outcome == 0]
plt.figure(figsize=(8,6))
plt.scatter(D.Glucose, D.BMI, color='red', label='Diabetes')
plt.scatter(C.Glucose, C.BMI, color='blue', label='No Diabetes')
plt.legend()
plt.xlabel('Glucose')
plt.ylabel('BMI')
plt.show()

# Separar la información en X e Y
x = df.iloc[:,:-1]
y = df.iloc[:,-1]
print(x)
print(y)

# Separar la información en X e Y
x = df.iloc[:,:-1]
y = df.iloc[:,-1]
print(x)
print(y)

# Estandarizar los datos
from sklearn.preprocessing import StandardScaler

# Estandarizar los datos
scaler = StandardScaler()
x_standar = scaler.fit_transform(x)
print(x_standar)

# División de los datos en entrenamiento y prueba

from sklearn.model_selection import train_test_split

x_train, x_test, y_train, y_test = train_test_split(x_standar, y, test_size=0.2, random_state=1)

print(x_train.shape)
print(x_test.shape)

# Entrenar un modelo de regresión logística
from sklearn.ensemble import RandomForestClassifier

rf = RandomForestClassifier()
rf.fit(x_train, y_train)

from sklearn import tree

plt.figure(figsize=(18,10))

tree.plot_tree(rf.estimators_[0], filled=True)

plt.show()


rf.predict_proba(x_test)[:,1]

# Evaluar el modelo

from sklearn.metrics import accuracy_score, confusion_matrix, roc_auc_score, roc_curve

accuracy = accuracy_score(y_test, y_pred)
accuracy

# Curva roc

y_pred_proba = rf.predict_proba(x_test)[:,1]
fpr, tpr, _ = roc_curve(y_test, y_pred_proba)

roc_auc=roc_auc_score(y_test, y_pred_proba)

plt.figure(figsize=(8,6))
plt.plot(fpr, tpr, color='red')
plt.plot([0,1],[0,1], color='blue', linestyle='--', label= "'Random Forest (AUC = 0'+str(round(roc_auc,2))+')'")
plt.xlabel('FPR')
plt.ylabel('TPR')
plt.show()

# Matriz de confusión
import seaborn as sns

matriz = confusion_matrix(y_test, y_pred)
plt.figure(figsize=(8,6))
sns.heatmap(matriz, annot=True, cmap='Blues')

plt.show()

# visualización de las predicciones

x_min,x_max = x.Glucose.min()-1, x.Glucose.max()+1
y_min,y_max = x.BMI.min()-1, x.BMI.max()+1

xx, yy = np.meshgrid(np.arange(x_min, x_max, 1), np.arange(y_min, y_max, 1))

matriz = scaler.fit_transform(np.c_[xx.ravel(), yy.ravel()])
matriz

Z = rf.predict(matriz)
Z = Z.reshape(xx.shape)
Z

plt.figure(figsize=(10,6))

plt.contourf(xx, yy, Z, alpha=0.2,cmap = 'viridis')
plt.scatter(D.Glucose, D.BMI, color='red', label='Diabetes')
plt.scatter(C.Glucose, C.BMI, color='blue', label='Control')
plt.legend()
plt.show()
